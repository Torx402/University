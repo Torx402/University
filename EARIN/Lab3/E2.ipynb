{
 "cells": [
  {
   "cell_type": "markdown",
   "metadata": {},
   "source": [
    "# Experiment 2"
   ]
  },
  {
   "cell_type": "code",
   "execution_count": 1,
   "metadata": {},
   "outputs": [],
   "source": [
    "from genetic_algorithm import GeneticAlgorithm\n",
    "import pandas as pd\n",
    "import numpy as np\n",
    "import matplotlib.pyplot as plt\n",
    "%matplotlib inline"
   ]
  },
  {
   "cell_type": "code",
   "execution_count": 3,
   "metadata": {},
   "outputs": [],
   "source": [
    "seeds = [20, 42, 80, 120, 300]\n",
    "ga = GeneticAlgorithm(\n",
    "    population_size=110,\n",
    "    mutation_rate=0.1,\n",
    "    mutation_strength=0.5,\n",
    "    crossover_rate=0.5,\n",
    "    num_generations=60\n",
    ")\n",
    "solutions = {}\n",
    "for i in range(len(seeds)):\n",
    "    solutions[\"best_solutions_\" + str(seeds[i])], solutions[\"best_fitness_values_\" + str(seeds[i])], solutions[\"average_fitness_values_\" + str(seeds[i])] = ga.evolve(seeds[i])"
   ]
  },
  {
   "cell_type": "markdown",
   "metadata": {},
   "source": [
    "The above creates a dictionary where the keys are the best solutions, best fitness values, and average fitness values for each seed, with the seed used being part of the key name. Let's find the best and add them to a table"
   ]
  },
  {
   "cell_type": "code",
   "execution_count": 21,
   "metadata": {},
   "outputs": [],
   "source": [
    "matrix = np.zeros((5, 6))\n",
    "for i in range(len(matrix)):\n",
    "    # Fill in seeds\n",
    "    matrix[i, 0] = seeds[i]\n",
    "    matrix[i, 3] = solutions[\"best_fitness_values_\" + str(seeds[i])].min()\n",
    "    ind = np.where((solutions[\"best_fitness_values_\" + str(seeds[i])] == matrix[i, 3]))[0][0]\n",
    "    best_solutions = solutions[\"best_solutions_\" + str(seeds[i])]\n",
    "    coordinates = best_solutions[ind]\n",
    "    matrix[i, 1] = coordinates[0]\n",
    "    matrix[i, 2] = coordinates[1]\n",
    "    matrix[i, 4] = solutions[\"average_fitness_values_\" + str(seeds[i])].mean()\n",
    "    matrix[i, 5] = solutions[\"average_fitness_values_\" + str(seeds[i])].std()\n",
    "df = pd.DataFrame(matrix, columns=[\"Seed\", \"x\", \"y\", \"Best Fitness Value\", \"Average Fitness Value\", \"Standard Deviation\"])\n",
    "df.to_csv(\"experiment2_seeds\")\n"
   ]
  },
  {
   "cell_type": "markdown",
   "metadata": {},
   "source": [
    "Now we will go ahead and choose the best seed and run it with decreasing population size, to this end, we will choose 80, as it has the best fitness and standard deviation values."
   ]
  },
  {
   "cell_type": "code",
   "execution_count": 23,
   "metadata": {},
   "outputs": [],
   "source": [
    "best_seed = 80\n",
    "pops = [30, 50, 80, 110]\n",
    "solutions = {}\n",
    "matrix = np.zeros((4, 6))\n",
    "for i in range (len(pops)):\n",
    "    ga.population_size = pops[i]\n",
    "    best_solutions, best_fitness_values, average_fitness_values = ga.evolve(best_seed)\n",
    "    matrix[i, 0] = pops[i]\n",
    "    matrix[i, 3] = best_fitness_values.min()\n",
    "    matrix[i, 4] = average_fitness_values.mean()\n",
    "    matrix[i, 5] = average_fitness_values.std()\n",
    "    ind = np.where(best_fitness_values == matrix[i, 3])[0][0]\n",
    "    coordinates = best_solutions[ind]\n",
    "    matrix[i, 1] = coordinates[0]\n",
    "    matrix[i, 2] = coordinates[1]\n",
    "df = pd.DataFrame(matrix, columns=[\"Population\", \"x\", \"y\", \"Best Fitness Value\", \"Average Fitness Value\", \"Standard Deviation\"])\n",
    "df.to_csv(\"experiment2_pops\")\n",
    "\n",
    "\n"
   ]
  },
  {
   "cell_type": "markdown",
   "metadata": {},
   "source": [
    "We see here that while 80 is also just as good as 110, but 110 could be seen as being better since the standard deviation is lower while having a similar average value, this means that they are closer to the mean. We may conclude that 110 is the best, but 80 is equally good."
   ]
  },
  {
   "cell_type": "code",
   "execution_count": null,
   "metadata": {},
   "outputs": [],
   "source": []
  }
 ],
 "metadata": {
  "kernelspec": {
   "display_name": "EARIN",
   "language": "python",
   "name": "python3"
  },
  "language_info": {
   "codemirror_mode": {
    "name": "ipython",
    "version": 3
   },
   "file_extension": ".py",
   "mimetype": "text/x-python",
   "name": "python",
   "nbconvert_exporter": "python",
   "pygments_lexer": "ipython3",
   "version": "3.11.8"
  }
 },
 "nbformat": 4,
 "nbformat_minor": 2
}
