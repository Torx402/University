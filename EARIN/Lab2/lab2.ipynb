{
 "cells": [
  {
   "cell_type": "markdown",
   "metadata": {},
   "source": [
    "# Lab 2"
   ]
  },
  {
   "cell_type": "markdown",
   "metadata": {},
   "source": [
    "## Variant 5"
   ]
  },
  {
   "cell_type": "markdown",
   "metadata": {},
   "source": [
    "## Introduction"
   ]
  },
  {
   "cell_type": "markdown",
   "metadata": {},
   "source": [
    "This task involves approaching the map coloring problem as a constraint satisfaction problem (CSP), where the aim is to solve the map coloring problem. The map is provided as a dictionary in which each region (key) is mapped to the list of its neighbors (values). The objective here is to return the first found solution to the given map coloring problem. Then, the task is to visualize said solution."
   ]
  },
  {
   "cell_type": "markdown",
   "metadata": {},
   "source": [
    "Let's begin by introducing the concept of what a CSP problem involves. In essence, a CSP problem is composed of the following:\n",
    "* A set of Variables $\\{X_{1}, \\ X_{2},. \\ . \\ ., X_{n}\\}$\n",
    "* A set of Domains $\\{D_{1}, \\ D_{2},. \\ . \\ ., D_{n}\\}$\n",
    "* A set of Constraints, where it may contain unary or binary constraints.\n",
    "\n",
    "A CSP problem tries to assign a value to some variable, $X$, from its domain, $D_{X}$, such that all constraints in the set of constraints are satisfied. As mentioned previously, there are binary and unary constraints, a binary constraint is a constraint that involves to variables, for example, if we consider two variables $X_{1}$ and $X_{2}$, a binary constraint would be of the form $X_{1} \\neq X_{2}$, which implies that the choice for the assignments of the variables must be in such a way where the variables cannot take on the same value.\n",
    "\n",
    "A unary constraint on the other hand, would be one that only involves a single variable, an example of this would be if we have a variable $X_{1}$, with a domain $D_{X}$, then a unary constraint looks like: $$X_{1} \\neq d$$\n",
    "\n",
    "Where $d \\in D_{X}$\n",
    "\n",
    "The map coloring problem states that given some region A, with a certain color, then no adjacent region to A can have the same color. Generally, there are other types of problems that have a similar nature, where nodes that are connected to each other via edges (adjacent nodes) cannot take on the same value, the concept is fundamentally the same."
   ]
  },
  {
   "cell_type": "markdown",
   "metadata": {},
   "source": [
    "The algorithm used in this approach is backtracking with forward checking, to explain this as accurately as possible, we must start by first introducing the idea of what backtracking is, and then move on to how forward checking improves upon it.\n",
    "\n",
    "Backtracking is a recursive algorithm that assigns values to free variables from their domain, which are variables that do not have a value assigned to them yet. The algorithm does this on a variable by variable basis as long as the assignment is consistent. A consistent assignment is one where:\n",
    "* It does not violate any constraints\n",
    "* The value is chosen from the domain of the variable\n",
    "\n",
    "If an assignment violates a constraint, then it backtracks (hence its name) to the assignment that caused the violation, and picks another value instead. Once it has made all the necessary assignments, it returns a solution, which in our case, is a dictionary that maps each variable (key) to a color (value).\n",
    "\n",
    "On its own, this algorithm can be wasteful and not very efficient, mainly in the sense that it brute forces its way through the CSP. To improve upon it, we may do so by introducing forward checking. Conceptually, it works by removing a value that is assigned to a variable, from the domain of the free variables of its adjacent variables (neighbors). Let's illustrate an example, suppose two variables $X$ and $Y$ that are adjacent (neighbors), with their respective domains $D_{X}$ and $D_{Y}$:\n",
    "\n",
    "* assignments[$X$] = $d$ # Where $d \\in D_{X}$\n",
    "* if $d$ is in $D_{Y}$:\n",
    "    * remove $d$ from $D_{Y}$\n",
    "\n",
    "This step is done after every consistent assignment.\n"
   ]
  },
  {
   "cell_type": "markdown",
   "metadata": {},
   "source": [
    "## Implementation"
   ]
  },
  {
   "cell_type": "markdown",
   "metadata": {},
   "source": [
    "We begin by defining the CSP class, which is as follows:"
   ]
  },
  {
   "cell_type": "code",
   "execution_count": 82,
   "metadata": {},
   "outputs": [],
   "source": [
    "class CSP: \n",
    "\tdef __init__(self, variables, domains, constraints): \n",
    "\t\t\"\"\"\n",
    "\t\tInitialization of the CSP class\n",
    "\n",
    "\t\tParameters:\n",
    "\t\t- variables\n",
    "\t\t- domains\n",
    "\t\t- constraints\n",
    "\t\t\"\"\"\n",
    "\t\tself.variables = variables \n",
    "\t\tself.domains = domains \n",
    "\t\tself.constraints = constraints \n",
    "\t\tself.solution = None\n",
    "        \n",
    "\tdef solve(self): \n",
    "\t\tassignment = {} \n",
    "\t\tself.solution = self.backtrack(assignment)\n",
    "\t\treturn self.solution\n",
    "\n",
    "\t#  Implement additional functions here\n",
    "\tdef select_unassigned_var(self, assignment): #Selects a free variable (unassigned variable) by returning the first found one\n",
    "\t\tfor i in self.variables:\n",
    "\t\t\tif i not in assignment:\n",
    "\t\t\t\treturn i\n",
    "\t\treturn None\n",
    "\n",
    "\tdef consistent(self, assignment):           # Checks if an assignment is consistent with the constraints\n",
    "\t\tfor (x, y) in self.constraints:\n",
    "\t\t\tif x not in assignment or y not in assignment:\n",
    "\t\t\t\tcontinue\n",
    "\t\t\tif assignment[x] == assignment[y]:\n",
    "\t\t\t\treturn False\n",
    "\t\treturn True\n",
    "\n",
    "\t# A function that removes a given value from the domains of a variable X\n",
    "\tdef revise(self, X, value):\n",
    "\t\trevised = False\n",
    "\t\tfor x in self.domains[X]:\n",
    "\t\t\tif x == value:\n",
    "\t\t\t\tself.domains[X].remove(x)\n",
    "\t\t\t\trevised = True\n",
    "\t\treturn revised\n",
    "\t\t\t\t\n",
    "\t\t\t\n",
    "        \n",
    "\tdef forward_checking(self, var, value, assignment):\n",
    "\t\t\"\"\"\n",
    "\t\tFunction that removes the value from the domains of free variables that are in the constraints of the var\n",
    "\n",
    "\t\tParameters:\n",
    "\t\t- var: variable that was assigned the value\n",
    "\t\t- value: value that was assigned to the variable\n",
    "\t\t- assignment: dict with all the assignments to the variables\n",
    "\n",
    "\t\tReturns:\n",
    "\t\t- removed_values: set of free variables from domains of which the value was removed\n",
    "\n",
    "\t\t\"\"\"\n",
    "\t\t# Your code starts here\n",
    "\t\tremoved_values = []\n",
    "\t\tfor (x, y) in self.constraints:             # Checking pairs that belong to the set of constriants, where (assignment[x] != assignment[y])\n",
    "\t\t\tif x == var:\n",
    "\t\t\t\tif y not in assignment:             # considers the case where the var we are interested in is the second element of the pair\n",
    "\t\t\t\t\tif (self.revise(y, value)):     # if some value was removed from its domain\n",
    "\t\t\t\t\t\tremoved_values.append(y)\n",
    "\t\t\tif y == var:\n",
    "\t\t\t\tif x not in assignment:             # considers the case where the var we are interested in is the first element of the pair\n",
    "\t\t\t\t\tif (self.revise(x, value)):     # if some value was removed from its domain\n",
    "\t\t\t\t\t\tremoved_values.append(x)\n",
    "\t\treturn removed_values\n",
    "\t\t\t\t\n",
    "\n",
    "\n",
    "\t\t\n",
    " \n",
    "\n",
    "\tdef backtrack(self, assignment): \n",
    "\t\t\"\"\"\n",
    "\t\tBacktracking algorithm\n",
    "\n",
    "\t\tParameters:\n",
    "\t\t- assignment: dict with all the assignments to the variables\n",
    "\n",
    "\t\tReturns:\n",
    "\t\t- assignment: dict with all the assigments to the variables, or None if solution is not found. Return the first found solution\n",
    "\t\t\"\"\"\n",
    "\t\t# Your code starts here\n",
    "\n",
    "\t\tif len(assignment) == len(self.variables):\n",
    "\t\t\treturn assignment\n",
    "\t\tvar = self.select_unassigned_var(assignment)            # Picks a variable that does not have an assignment yet, a free variable\n",
    "\t\tfor d in self.domains[var]:\n",
    "\t\t\tnew_assignment = assignment.copy()\n",
    "\t\t\tnew_assignment[var] = d\n",
    "\t\t\tif self.consistent(new_assignment):\n",
    "\t\t\t\tself.forward_checking(var, d, new_assignment)\n",
    "\t\t\t\tresult = self.backtrack(new_assignment)\n",
    "\t\t\t\tif result is not None:\n",
    "\t\t\t\t\treturn result\n",
    "\t\treturn None"
   ]
  },
  {
   "cell_type": "markdown",
   "metadata": {},
   "source": [
    "After defining our class, we need to supply the necessary parameters in order to use the method to solve our CSP. We begin by defining our map and its adjacencies:"
   ]
  },
  {
   "cell_type": "code",
   "execution_count": 83,
   "metadata": {},
   "outputs": [],
   "source": [
    "cmap = {}\n",
    "cmap[\"ab\"] = [\"bc\",\"nt\",\"sk\"]\n",
    "cmap[\"bc\"] = [\"yt\", \"nt\", \"ab\"]\n",
    "cmap[\"mb\"] = [\"sk\",\"nu\",\"on\"]\n",
    "cmap[\"nb\"] = [\"qc\", \"ns\", \"pe\"]\n",
    "cmap[\"ns\"] = [\"nb\", \"pe\"]\n",
    "cmap[\"nl\"] = [\"qc\"]\n",
    "cmap[\"nt\"] = [\"bc\", \"yt\", \"ab\", \"sk\", \"nu\"]\n",
    "cmap[\"nu\"] = [\"nt\", \"mb\"]\n",
    "cmap[\"on\"] = [\"mb\", \"qc\"]\n",
    "cmap[\"pe\"] = [\"nb\", \"ns\"]\n",
    "cmap[\"qc\"] = [\"on\", \"nb\", \"nl\"]\n",
    "cmap[\"sk\"] = [\"ab\", \"mb\", \"nt\"]\n",
    "cmap[\"yt\"] = [\"bc\", \"nt\"]"
   ]
  },
  {
   "cell_type": "markdown",
   "metadata": {},
   "source": [
    "This represents the map, stored as a dictionary, where each key is a region, and the values represents the neighbors (adjacencies) which are regions themselves. Next, we take the number of colors to be used for coloring from the user, this is done with the following: (in this case, we provided 5)"
   ]
  },
  {
   "cell_type": "code",
   "execution_count": 84,
   "metadata": {},
   "outputs": [],
   "source": [
    "n_colors = 0\n",
    "while(n_colors <= 0):\n",
    "\ttry:\n",
    "\t\tn_colors = int(input(\"Please enter the number of colors:\"))\n",
    "\t\tif n_colors <= 0:\n",
    "\t\t\traise TypeError\n",
    "\texcept ValueError:\n",
    "\t\tprint(\"Please enter a numerical value!\")\n",
    "\texcept TypeError:\n",
    "\t\tprint(\"Please enter a value greater than 0!\")"
   ]
  },
  {
   "cell_type": "markdown",
   "metadata": {},
   "source": [
    "The next part involves creating the set of variables, domains, and constraints, we begin by defining the variables and constraints:"
   ]
  },
  {
   "cell_type": "code",
   "execution_count": 85,
   "metadata": {},
   "outputs": [],
   "source": [
    "constraints = []\n",
    "variables = []\n",
    "for key in cmap:\n",
    "    variables.append(key)\n",
    "    for value in cmap[key]:\n",
    "        constraints.append((key, value))"
   ]
  },
  {
   "cell_type": "markdown",
   "metadata": {},
   "source": [
    "This produces to sets, constraints and variables, variables consists of all the variables there are, in our case these are regions. We can take a look at them via the following:"
   ]
  },
  {
   "cell_type": "code",
   "execution_count": 86,
   "metadata": {},
   "outputs": [
    {
     "name": "stdout",
     "output_type": "stream",
     "text": [
      "['ab', 'bc', 'mb', 'nb', 'ns', 'nl', 'nt', 'nu', 'on', 'pe', 'qc', 'sk', 'yt']\n"
     ]
    }
   ],
   "source": [
    "print(variables)"
   ]
  },
  {
   "cell_type": "markdown",
   "metadata": {},
   "source": [
    "Our constraints are ordered pairs in the form (x, y), which consists of regions and their adjacencies, essentially, the values (colors) assigned to each adjacency must not be the same, we can take a look at our constraints:"
   ]
  },
  {
   "cell_type": "code",
   "execution_count": 87,
   "metadata": {},
   "outputs": [
    {
     "name": "stdout",
     "output_type": "stream",
     "text": [
      "[('ab', 'bc'), ('ab', 'nt'), ('ab', 'sk'), ('bc', 'yt'), ('bc', 'nt'), ('bc', 'ab'), ('mb', 'sk'), ('mb', 'nu'), ('mb', 'on'), ('nb', 'qc'), ('nb', 'ns'), ('nb', 'pe'), ('ns', 'nb'), ('ns', 'pe'), ('nl', 'qc'), ('nt', 'bc'), ('nt', 'yt'), ('nt', 'ab'), ('nt', 'sk'), ('nt', 'nu'), ('nu', 'nt'), ('nu', 'mb'), ('on', 'mb'), ('on', 'qc'), ('pe', 'nb'), ('pe', 'ns'), ('qc', 'on'), ('qc', 'nb'), ('qc', 'nl'), ('sk', 'ab'), ('sk', 'mb'), ('sk', 'nt'), ('yt', 'bc'), ('yt', 'nt')]\n"
     ]
    }
   ],
   "source": [
    "print(constraints)"
   ]
  },
  {
   "cell_type": "markdown",
   "metadata": {},
   "source": [
    "Now, we can define the domains via the following:"
   ]
  },
  {
   "cell_type": "code",
   "execution_count": 88,
   "metadata": {},
   "outputs": [],
   "source": [
    "domains = {}\n",
    "i_domain = []\n",
    "for i in range(1, n_colors+1):\n",
    "    i_domain.append(i)\n",
    "\n",
    "for key in cmap:\n",
    "    domains[key] = i_domain.copy()"
   ]
  },
  {
   "cell_type": "markdown",
   "metadata": {},
   "source": [
    "Which assigns a domain to each one of our variables, this looks like:"
   ]
  },
  {
   "cell_type": "code",
   "execution_count": 89,
   "metadata": {},
   "outputs": [
    {
     "name": "stdout",
     "output_type": "stream",
     "text": [
      "{'ab': [1, 2, 3, 4, 5], 'bc': [1, 2, 3, 4, 5], 'mb': [1, 2, 3, 4, 5], 'nb': [1, 2, 3, 4, 5], 'ns': [1, 2, 3, 4, 5], 'nl': [1, 2, 3, 4, 5], 'nt': [1, 2, 3, 4, 5], 'nu': [1, 2, 3, 4, 5], 'on': [1, 2, 3, 4, 5], 'pe': [1, 2, 3, 4, 5], 'qc': [1, 2, 3, 4, 5], 'sk': [1, 2, 3, 4, 5], 'yt': [1, 2, 3, 4, 5]}\n"
     ]
    }
   ],
   "source": [
    "print(domains)"
   ]
  },
  {
   "cell_type": "markdown",
   "metadata": {},
   "source": [
    "With our necessary variables defined, we can now pass it on to our object of CSP class, and call the solving method:"
   ]
  },
  {
   "cell_type": "code",
   "execution_count": 90,
   "metadata": {},
   "outputs": [
    {
     "name": "stdout",
     "output_type": "stream",
     "text": [
      "{'ab': 1, 'bc': 2, 'mb': 1, 'nb': 1, 'ns': 2, 'nl': 1, 'nt': 3, 'nu': 2, 'on': 2, 'pe': 3, 'qc': 3, 'sk': 2, 'yt': 1}\n"
     ]
    }
   ],
   "source": [
    "csp = CSP(variables, domains, constraints) \n",
    "sol = csp.solve()\n",
    "\n",
    "print(sol)"
   ]
  },
  {
   "cell_type": "markdown",
   "metadata": {},
   "source": [
    "Now that we have a returned solution, we may visualize it by using the networkx library to visualize it as a set of connected nodes (best way I could do it):"
   ]
  },
  {
   "cell_type": "code",
   "execution_count": 91,
   "metadata": {},
   "outputs": [],
   "source": [
    "import matplotlib.pyplot as plt\n",
    "import matplotlib.colors as mpcolors\n",
    "import networkx as nx\n",
    "import numpy as np\n",
    "%matplotlib inline"
   ]
  },
  {
   "cell_type": "markdown",
   "metadata": {},
   "source": [
    "We begin by changing the numerical values previously provided to color values, to do so, we randomly choose the colors from a set of colors supported by matplotlib:"
   ]
  },
  {
   "cell_type": "code",
   "execution_count": 92,
   "metadata": {},
   "outputs": [],
   "source": [
    "\n",
    "colors = list(mpcolors.CSS4_COLORS.keys())\n",
    "cdict = {}\n",
    "for i in range(1, n_colors+1):\n",
    "    n = np.random.randint(0, 148, 1, int)\n",
    "    cdict[i] = n[0]\n",
    "for key in sol:\n",
    "    for i in cdict:\n",
    "        if sol[key] == i:\n",
    "            sol[key] = cdict[i]\n",
    "\n",
    "for key in sol:\n",
    "    ind = sol[key]\n",
    "    cl = colors[ind]\n",
    "    sol[key] = cl"
   ]
  },
  {
   "cell_type": "markdown",
   "metadata": {},
   "source": [
    "Taking a look at our solution now, it looks like:"
   ]
  },
  {
   "cell_type": "code",
   "execution_count": 93,
   "metadata": {},
   "outputs": [
    {
     "name": "stdout",
     "output_type": "stream",
     "text": [
      "{'ab': 'lightslategrey', 'bc': 'antiquewhite', 'mb': 'lightslategrey', 'nb': 'lightslategrey', 'ns': 'antiquewhite', 'nl': 'lightslategrey', 'nt': 'aquamarine', 'nu': 'antiquewhite', 'on': 'antiquewhite', 'pe': 'aquamarine', 'qc': 'aquamarine', 'sk': 'antiquewhite', 'yt': 'lightslategrey'}\n"
     ]
    }
   ],
   "source": [
    "print(sol)"
   ]
  },
  {
   "cell_type": "markdown",
   "metadata": {},
   "source": [
    "Where each value now represents a color that will be used to represent the node, we now proceed to drawing our graph, which looks like:"
   ]
  },
  {
   "cell_type": "code",
   "execution_count": 94,
   "metadata": {},
   "outputs": [
    {
     "data": {
      "image/png": "[encoded data removed]",
      "text/plain": [
       "<Figure size 640x480 with 1 Axes>"
      ]
     },
     "metadata": {},
     "output_type": "display_data"
    }
   ],
   "source": [
    "# Create a graph from the adjacency list\n",
    "G = nx.Graph(cmap)\n",
    "\n",
    "# Create a color map based on sol\n",
    "color_map = [sol[key] for key in G]\n",
    "\n",
    "# Use a layout algorithm to position the nodes (e.g., spring layout)\n",
    "pos = nx.spring_layout(G)  # This uses the Fruchterman-Reingold algorithm\n",
    "\n",
    "# Draw the graph using the calculated positions\n",
    "nx.draw(G, pos, with_labels=True, node_color=color_map, edge_color='gray')\n",
    "\n",
    "plt.show()"
   ]
  },
  {
   "cell_type": "markdown",
   "metadata": {},
   "source": [
    "## Discussion"
   ]
  },
  {
   "cell_type": "markdown",
   "metadata": {},
   "source": [
    "As explained above, the variables are defined by considering the key in the map, each key is essntially a variable, with the values being its neighbors, since the problem involves making sure that adjacent neighbors do not have the same color, this means that we define our constraints in pairs, pairs of neighbors (x, y), such that the value assigned to x must not be the same as the value assigned to y.\n",
    "\n",
    "Moreover, since the values that a variable take on will depend on the value that is adjacent neighbor has, we must also consider that each variable has its own domain, and defining it as such is important, because its domain can become restricted based on which value its adjacent neighbors take on. This is also crucial for the implementation of forward checking, since it actively modifies the domain of adjacent variables' domains, based on the assignment made to the current variable. \n",
    "\n",
    "Forward checking improves the backtracking algorithm, as by eliminating the values in free variables that are conflicting with the values assigned to other variables (non-free variables), we reduce the number of iterations it takes to reach a solution."
   ]
  },
  {
   "cell_type": "markdown",
   "metadata": {},
   "source": [
    "## Conclusion"
   ]
  },
  {
   "cell_type": "markdown",
   "metadata": {},
   "source": [
    "In conclusion, the backtracking search with forward checking is an efficient way to find a solution to the constraint satisfaction problem, however, it can still be improved on. One particular area that can be improved on is by introduce a heuristic that determines which free variable to choose next, and this can be done by considering the domains of the free variables. For example, since forward checking modifies the domains of free variables and could make them smaller, we may choose to select an unassigned variable with the least number of values in its domain, it could even be down to one! This approach is known as the **Minimum Remaining Values (MRV)** heuristic.\n",
    "\n",
    "The most challenging part of the lab was trying to find a way to visualize the map in such a way that looks like a map, and not just a network of nodes."
   ]
  }
 ],
 "metadata": {
  "kernelspec": {
   "display_name": "EARIN",
   "language": "python",
   "name": "python3"
  },
  "language_info": {
   "codemirror_mode": {
    "name": "ipython",
    "version": 3
   },
   "file_extension": ".py",
   "mimetype": "text/x-python",
   "name": "python",
   "nbconvert_exporter": "python",
   "pygments_lexer": "ipython3",
   "version": "3.11.8"
  }
 },
 "nbformat": 4,
 "nbformat_minor": 2
}
